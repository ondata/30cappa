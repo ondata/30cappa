{
  "nbformat": 4,
  "nbformat_minor": 0,
  "metadata": {
    "colab": {
      "name": "30cappa.ipynb",
      "provenance": [],
      "collapsed_sections": []
    },
    "kernelspec": {
      "name": "python3",
      "display_name": "Python 3"
    }
  },
  "cells": [
    {
      "cell_type": "markdown",
      "metadata": {
        "id": "PmsoyAoN30Uh"
      },
      "source": [
        "# 30cappa con meno di 5mila abitanti\n",
        "\n",
        "![](https://raw.githubusercontent.com/aborruso/30cappa/main/risorse/2020-12-18_slide_Natale.png)\n",
        "\n",
        "- trovare i piccoli Comuni (fino a 5mila abitanti)\n",
        "- calcolare i 30kmdal confine  da cui possono spostare\n",
        "- impedendo di andare nei Comuni capoluogo di Provincia e rimanendo nella stessa regione o Provincia Autonoma."
      ]
    },
    {
      "cell_type": "markdown",
      "metadata": {
        "id": "1J86c6mH5Gwy"
      },
      "source": [
        "## Setup\n",
        "\n",
        "queste istruzoni possono essere commentate"
      ]
    },
    {
      "cell_type": "code",
      "metadata": {
        "id": "fsCym_feYpDU"
      },
      "source": [
        "!pip install requests"
      ],
      "execution_count": null,
      "outputs": []
    },
    {
      "cell_type": "code",
      "metadata": {
        "id": "5Q9mTit2Yujo"
      },
      "source": [
        "!pip install pandas"
      ],
      "execution_count": null,
      "outputs": []
    },
    {
      "cell_type": "code",
      "metadata": {
        "id": "kH_EXEA3TAtv"
      },
      "source": [
        "!pip install geopandas"
      ],
      "execution_count": null,
      "outputs": []
    },
    {
      "cell_type": "code",
      "metadata": {
        "id": "CwNUaANDTt-Q"
      },
      "source": [
        "!pip install pygeos"
      ],
      "execution_count": null,
      "outputs": []
    },
    {
      "cell_type": "code",
      "metadata": {
        "id": "12oc5CJkD5-C"
      },
      "source": [
        "import pandas as pd\n",
        "import geopandas as gpd\n",
        "import os\n",
        "import requests, zipfile, io\n",
        "import matplotlib.pyplot as plt"
      ],
      "execution_count": null,
      "outputs": []
    },
    {
      "cell_type": "markdown",
      "metadata": {
        "id": "gOMahMXW5JB9"
      },
      "source": [
        "# Raccolta dei dati\n",
        "- confini comunali\n",
        "- statistiche popolazione"
      ]
    },
    {
      "cell_type": "markdown",
      "metadata": {
        "id": "cDGDa2tE5SA9"
      },
      "source": [
        "## Confini dei comuni d'Italia\n",
        "\n",
        "ISTAT offre gli shapefile delle unità amministrative\n",
        "https://www.istat.it/it/archivio/222527\n",
        "\n",
        "Ciascun archivio è un file zip che contiene diverse unità amministrative: macroregioni, regioni, province e comuni.\n",
        "Alcuni campi significativi:\n",
        "- PRO_COM_T è il codice univoco per ogni comune assegnato da ISTAT\n",
        "- *CC_UTS* quando il valore è uguale a 1 significa che si tratta di un comune capoluogo di provincia\n",
        "- *COD_REG* è il codice univoco della regione assegnato da ISTAT\n",
        "\n",
        "**NOTE**<br/>\n",
        "- le geometrie dei confini comunali sono archiviate con proiezione [WGS 84 / UTM zone 32N](https://epsg.io/32632), quindi in metri\n",
        "- molti comuni hanno [enclave ed exclave](https://it.wikipedia.org/wiki/Enclave_ed_exclave) con il risultato che il confine comunale è composto da aree non contigue fra di loro\n",
        "- un caso particolare è il comune di [Campione d'Italia](https://it.wikipedia.org/wiki/Campione_d%27Italia) che è al di fuori dal confine italiano\n",
        "- le province autonome di Trento e Bolzano, in questo caso, vanno considerate come regioni, quindi bisogna guardare anche il valore *COD_PROV*.la Regione Trentino Alto Adige ha COD_REG con valore 4, la provincia di Bolzano ha valore COD_PROV=21 mentre Trento COD_PROV=22\n",
        "\n",
        "\n",
        "**download dei dati**"
      ]
    },
    {
      "cell_type": "code",
      "metadata": {
        "id": "ksIIiE0tM39p"
      },
      "source": [
        "# indirizzo del file\n",
        "zip_file_url = 'https://www.istat.it/storage/cartografia/confini_amministrativi/non_generalizzati/Limiti01012020.zip'\n",
        "#download\n",
        "r = requests.get(zip_file_url)\n",
        "z = zipfile.ZipFile(io.BytesIO(r.content))\n",
        "#decompressione\n",
        "z.extractall()"
      ],
      "execution_count": 6,
      "outputs": []
    },
    {
      "cell_type": "markdown",
      "metadata": {
        "id": "t3bjtRdh5sMu"
      },
      "source": [
        "**geodataframe con i limiti comunali**"
      ]
    },
    {
      "cell_type": "code",
      "metadata": {
        "id": "vAAjoqCjS9fB"
      },
      "source": [
        "limiti_comuni = gpd.read_file(\"Limiti01012020\" + os.sep + \"Com01012020\" + os.sep + \"Com01012020_WGS84.shp\",encoding='utf-8')"
      ],
      "execution_count": 7,
      "outputs": []
    },
    {
      "cell_type": "markdown",
      "metadata": {
        "id": "vIOKHNF150P3"
      },
      "source": [
        "**ottenere l'elenco dei capoluoghi di provincia**\n",
        "\n",
        "CC_UTS = 1"
      ]
    },
    {
      "cell_type": "code",
      "metadata": {
        "id": "bJsF-WcXT03c"
      },
      "source": [
        "comuni_capoluoogo_provincia = limiti_comuni[limiti_comuni.CC_UTS == 1][['COMUNE','PRO_COM_T']]"
      ],
      "execution_count": 8,
      "outputs": []
    },
    {
      "cell_type": "code",
      "metadata": {
        "colab": {
          "base_uri": "https://localhost:8080/",
          "height": 206
        },
        "id": "1LsC_pk86EY-",
        "outputId": "652f616f-48e4-434b-f70c-94bff9edde46"
      },
      "source": [
        "# visualizzare i primi 5\n",
        "comuni_capoluoogo_provincia.head(5)"
      ],
      "execution_count": 9,
      "outputs": [
        {
          "output_type": "execute_result",
          "data": {
            "text/html": [
              "<div>\n",
              "<style scoped>\n",
              "    .dataframe tbody tr th:only-of-type {\n",
              "        vertical-align: middle;\n",
              "    }\n",
              "\n",
              "    .dataframe tbody tr th {\n",
              "        vertical-align: top;\n",
              "    }\n",
              "\n",
              "    .dataframe thead th {\n",
              "        text-align: right;\n",
              "    }\n",
              "</style>\n",
              "<table border=\"1\" class=\"dataframe\">\n",
              "  <thead>\n",
              "    <tr style=\"text-align: right;\">\n",
              "      <th></th>\n",
              "      <th>COMUNE</th>\n",
              "      <th>PRO_COM_T</th>\n",
              "    </tr>\n",
              "  </thead>\n",
              "  <tbody>\n",
              "    <tr>\n",
              "      <th>175</th>\n",
              "      <td>Vercelli</td>\n",
              "      <td>002158</td>\n",
              "    </tr>\n",
              "    <tr>\n",
              "      <th>474</th>\n",
              "      <td>Avellino</td>\n",
              "      <td>064008</td>\n",
              "    </tr>\n",
              "    <tr>\n",
              "      <th>521</th>\n",
              "      <td>Massa</td>\n",
              "      <td>045010</td>\n",
              "    </tr>\n",
              "    <tr>\n",
              "      <th>604</th>\n",
              "      <td>Milano</td>\n",
              "      <td>015146</td>\n",
              "    </tr>\n",
              "    <tr>\n",
              "      <th>644</th>\n",
              "      <td>Cuneo</td>\n",
              "      <td>004078</td>\n",
              "    </tr>\n",
              "  </tbody>\n",
              "</table>\n",
              "</div>"
            ],
            "text/plain": [
              "       COMUNE PRO_COM_T\n",
              "175  Vercelli    002158\n",
              "474  Avellino    064008\n",
              "521     Massa    045010\n",
              "604    Milano    015146\n",
              "644     Cuneo    004078"
            ]
          },
          "metadata": {
            "tags": []
          },
          "execution_count": 9
        }
      ]
    },
    {
      "cell_type": "markdown",
      "metadata": {
        "id": "T6mJv2HL6Bb_"
      },
      "source": [
        "export della tabella in formato csv"
      ]
    },
    {
      "cell_type": "code",
      "metadata": {
        "id": "bVZ-Vzx_5_Ei"
      },
      "source": [
        "comuni_capoluoogo_provincia.to_csv(\"comuni_capoluoogo_provincia.csv\")"
      ],
      "execution_count": 10,
      "outputs": []
    },
    {
      "cell_type": "markdown",
      "metadata": {
        "id": "j5V9WFIQ6IqH"
      },
      "source": [
        "## Informazioni statistiche sulla popolazione in Italia\n",
        "\n",
        "ISTAT offre il sito https://demo.istat.it che rilascia dati aggiornati con cadenza periodica.\n",
        "\n",
        "L'ultimo elenco disponibile è quello di gennaio 2020\n",
        "\n",
        "Il file con i dati per comune si trova qui http://demo.istat.it/pop2020/dati/comuni.zip"
      ]
    },
    {
      "cell_type": "code",
      "metadata": {
        "id": "tc7ocpheDwM1"
      },
      "source": [
        "dati_demografici_comuni_italiani = \"http://demo.istat.it/pop2020/dati/comuni.zip\""
      ],
      "execution_count": 11,
      "outputs": []
    },
    {
      "cell_type": "markdown",
      "metadata": {
        "id": "bTQPmmlc6ajf"
      },
      "source": [
        "nonostante lo zip contenga un CSV la prima riga va cancellata in quanto è usata come titolo del dataset, pertanto bisogna partire dalla seconda (*skiprows=1*).<br/>\n",
        "La codifica caratteri è *utf-8*"
      ]
    },
    {
      "cell_type": "code",
      "metadata": {
        "id": "TAdyP7pvD8O7"
      },
      "source": [
        "demo_comuni = pd.read_csv(dati_demografici_comuni_italiani,skiprows=1,encoding='utf-8')"
      ],
      "execution_count": 12,
      "outputs": []
    },
    {
      "cell_type": "markdown",
      "metadata": {
        "id": "cNQgQas-hASo"
      },
      "source": [
        "visualizzazione prime righe"
      ]
    },
    {
      "cell_type": "code",
      "metadata": {
        "colab": {
          "base_uri": "https://localhost:8080/",
          "height": 206
        },
        "id": "fRfIzXCHhCde",
        "outputId": "15c51e6b-b397-4762-f595-51d6eb23ff4c"
      },
      "source": [
        "demo_comuni.head(5)"
      ],
      "execution_count": 13,
      "outputs": [
        {
          "output_type": "execute_result",
          "data": {
            "text/html": [
              "<div>\n",
              "<style scoped>\n",
              "    .dataframe tbody tr th:only-of-type {\n",
              "        vertical-align: middle;\n",
              "    }\n",
              "\n",
              "    .dataframe tbody tr th {\n",
              "        vertical-align: top;\n",
              "    }\n",
              "\n",
              "    .dataframe thead th {\n",
              "        text-align: right;\n",
              "    }\n",
              "</style>\n",
              "<table border=\"1\" class=\"dataframe\">\n",
              "  <thead>\n",
              "    <tr style=\"text-align: right;\">\n",
              "      <th></th>\n",
              "      <th>Codice comune</th>\n",
              "      <th>Denominazione</th>\n",
              "      <th>Età</th>\n",
              "      <th>Totale Maschi</th>\n",
              "      <th>Totale Femmine</th>\n",
              "    </tr>\n",
              "  </thead>\n",
              "  <tbody>\n",
              "    <tr>\n",
              "      <th>0</th>\n",
              "      <td>1001</td>\n",
              "      <td>Agliè</td>\n",
              "      <td>0</td>\n",
              "      <td>5</td>\n",
              "      <td>11</td>\n",
              "    </tr>\n",
              "    <tr>\n",
              "      <th>1</th>\n",
              "      <td>1001</td>\n",
              "      <td>Agliè</td>\n",
              "      <td>1</td>\n",
              "      <td>9</td>\n",
              "      <td>15</td>\n",
              "    </tr>\n",
              "    <tr>\n",
              "      <th>2</th>\n",
              "      <td>1001</td>\n",
              "      <td>Agliè</td>\n",
              "      <td>2</td>\n",
              "      <td>6</td>\n",
              "      <td>8</td>\n",
              "    </tr>\n",
              "    <tr>\n",
              "      <th>3</th>\n",
              "      <td>1001</td>\n",
              "      <td>Agliè</td>\n",
              "      <td>3</td>\n",
              "      <td>7</td>\n",
              "      <td>11</td>\n",
              "    </tr>\n",
              "    <tr>\n",
              "      <th>4</th>\n",
              "      <td>1001</td>\n",
              "      <td>Agliè</td>\n",
              "      <td>4</td>\n",
              "      <td>13</td>\n",
              "      <td>15</td>\n",
              "    </tr>\n",
              "  </tbody>\n",
              "</table>\n",
              "</div>"
            ],
            "text/plain": [
              "   Codice comune Denominazione  Età  Totale Maschi  Totale Femmine\n",
              "0           1001         Agliè    0              5              11\n",
              "1           1001         Agliè    1              9              15\n",
              "2           1001         Agliè    2              6               8\n",
              "3           1001         Agliè    3              7              11\n",
              "4           1001         Agliè    4             13              15"
            ]
          },
          "metadata": {
            "tags": []
          },
          "execution_count": 13
        }
      ]
    },
    {
      "cell_type": "markdown",
      "metadata": {
        "id": "2Irb7zkH6ioY"
      },
      "source": [
        "**note**<br/>\n",
        "ogni riga è organizzata per fasce d'età (campo *Età*), il valore *999* contiene il totale.<br/>\n",
        "Occorre quindi filtrare il csv per il valore *999*\n",
        "\n",
        "\n",
        "quindi è necessario filtrare per quel valore"
      ]
    },
    {
      "cell_type": "code",
      "metadata": {
        "id": "nmE7uzmFEFhd"
      },
      "source": [
        "comuni_popolazione = demo_comuni[demo_comuni.Età == 999]"
      ],
      "execution_count": 14,
      "outputs": []
    },
    {
      "cell_type": "markdown",
      "metadata": {
        "id": "C7vHHgyA6sgy"
      },
      "source": [
        "per calcolare il totale della popolazione è necessario sommare *Totale Femmine* con *Totale Maschi*"
      ]
    },
    {
      "cell_type": "code",
      "metadata": {
        "id": "vyhc7oloGuuK"
      },
      "source": [
        "comuni_popolazione['POPOLAZIONE'] = comuni_popolazione.loc[:, ('Totale Femmine', 'Totale Maschi')].sum(axis=1)"
      ],
      "execution_count": null,
      "outputs": []
    },
    {
      "cell_type": "markdown",
      "metadata": {
        "id": "Aa1LohaK6ztC"
      },
      "source": [
        "dalla tabella creata prendiamo solo le colonne utili\n"
      ]
    },
    {
      "cell_type": "code",
      "metadata": {
        "id": "s5HWi-D5JnuO"
      },
      "source": [
        "comuni_popolazione = comuni_popolazione[['Codice comune','Denominazione','POPOLAZIONE']]"
      ],
      "execution_count": 16,
      "outputs": []
    },
    {
      "cell_type": "markdown",
      "metadata": {
        "id": "NidSqzCW64RM"
      },
      "source": [
        "per comodità nelle operazioni successive conviene rinominare le colonne allo stesso modo di quelle del file con i confini comunali"
      ]
    },
    {
      "cell_type": "code",
      "metadata": {
        "id": "rTPH0rfgKLcn"
      },
      "source": [
        "comuni_popolazione.rename(columns={'Codice comune':'PRO_COM_T','Denominazione':'COMUNE'}, inplace=True)"
      ],
      "execution_count": 17,
      "outputs": []
    },
    {
      "cell_type": "markdown",
      "metadata": {
        "id": "KRD6b9gu69hp"
      },
      "source": [
        "**elenco dei 'piccoli Comuni'**\n",
        "\n",
        "la definizione dice \"fino a 5000 abitanti\" "
      ]
    },
    {
      "cell_type": "code",
      "metadata": {
        "id": "nBMAubi6K2Bs"
      },
      "source": [
        "piccoli_comuni = comuni_popolazione[comuni_popolazione.POPOLAZIONE <= 5000]"
      ],
      "execution_count": 18,
      "outputs": []
    },
    {
      "cell_type": "markdown",
      "metadata": {
        "id": "GEqEud2BiZ8d"
      },
      "source": [
        "vediamo quanti sono"
      ]
    },
    {
      "cell_type": "code",
      "metadata": {
        "colab": {
          "base_uri": "https://localhost:8080/"
        },
        "id": "GK_cJ3tyiWHs",
        "outputId": "25b4fe93-cb5a-43f4-9459-c3261b518501"
      },
      "source": [
        "piccoli_comuni.shape[0]"
      ],
      "execution_count": 19,
      "outputs": [
        {
          "output_type": "execute_result",
          "data": {
            "text/plain": [
              "5496"
            ]
          },
          "metadata": {
            "tags": []
          },
          "execution_count": 19
        }
      ]
    },
    {
      "cell_type": "markdown",
      "metadata": {
        "id": "vbYb6ZOG3yrX"
      },
      "source": [
        "esportazione del file in formato .csv"
      ]
    },
    {
      "cell_type": "code",
      "metadata": {
        "id": "fu2h4RsZM0is"
      },
      "source": [
        "piccoli_comuni.to_csv(\"piccoli_comuni.csv\")"
      ],
      "execution_count": 20,
      "outputs": []
    },
    {
      "cell_type": "markdown",
      "metadata": {
        "id": "EQxHGlr_ifxs"
      },
      "source": [
        "*nota*<br/>\n",
        "Quanti sono i comuni fra i 5001 e 5020 abitanti?\n"
      ]
    },
    {
      "cell_type": "code",
      "metadata": {
        "id": "ZlnNxxS5iPjX"
      },
      "source": [
        "comuni5001_5020 = comuni_popolazione[(comuni_popolazione.POPOLAZIONE >= 5001) & (comuni_popolazione.POPOLAZIONE <= 5020)]\n"
      ],
      "execution_count": null,
      "outputs": []
    },
    {
      "cell_type": "markdown",
      "metadata": {
        "id": "N3nKHzi_jhzG"
      },
      "source": [
        "quanti sono i comuni in questione"
      ]
    },
    {
      "cell_type": "code",
      "metadata": {
        "colab": {
          "base_uri": "https://localhost:8080/"
        },
        "id": "C6rU2iznjaMU",
        "outputId": "8f0975f0-b2ea-43cb-ae44-f38c0a96e098"
      },
      "source": [
        "comuni5001_5020.shape[0]"
      ],
      "execution_count": 22,
      "outputs": [
        {
          "output_type": "execute_result",
          "data": {
            "text/plain": [
              "7"
            ]
          },
          "metadata": {
            "tags": []
          },
          "execution_count": 22
        }
      ]
    },
    {
      "cell_type": "markdown",
      "metadata": {
        "id": "MzR5xnI2jlPy"
      },
      "source": [
        "quali sono in ordine crescente di popolazione"
      ]
    },
    {
      "cell_type": "code",
      "metadata": {
        "colab": {
          "base_uri": "https://localhost:8080/",
          "height": 269
        },
        "id": "BlgU-lqCjMpp",
        "outputId": "cd5621e9-ae16-48da-f127-f6cfe84f7d4b"
      },
      "source": [
        "comuni5001_5020.sort_values('POPOLAZIONE')"
      ],
      "execution_count": 23,
      "outputs": [
        {
          "output_type": "execute_result",
          "data": {
            "text/html": [
              "<div>\n",
              "<style scoped>\n",
              "    .dataframe tbody tr th:only-of-type {\n",
              "        vertical-align: middle;\n",
              "    }\n",
              "\n",
              "    .dataframe tbody tr th {\n",
              "        vertical-align: top;\n",
              "    }\n",
              "\n",
              "    .dataframe thead th {\n",
              "        text-align: right;\n",
              "    }\n",
              "</style>\n",
              "<table border=\"1\" class=\"dataframe\">\n",
              "  <thead>\n",
              "    <tr style=\"text-align: right;\">\n",
              "      <th></th>\n",
              "      <th>PRO_COM_T</th>\n",
              "      <th>COMUNE</th>\n",
              "      <th>POPOLAZIONE</th>\n",
              "    </tr>\n",
              "  </thead>\n",
              "  <tbody>\n",
              "    <tr>\n",
              "      <th>538865</th>\n",
              "      <td>65006</td>\n",
              "      <td>Amalfi</td>\n",
              "      <td>5004</td>\n",
              "    </tr>\n",
              "    <tr>\n",
              "      <th>198287</th>\n",
              "      <td>16111</td>\n",
              "      <td>Gazzaniga</td>\n",
              "      <td>5006</td>\n",
              "    </tr>\n",
              "    <tr>\n",
              "      <th>305999</th>\n",
              "      <td>23070</td>\n",
              "      <td>San Giovanni Ilarione</td>\n",
              "      <td>5008</td>\n",
              "    </tr>\n",
              "    <tr>\n",
              "      <th>632297</th>\n",
              "      <td>77028</td>\n",
              "      <td>Tricarico</td>\n",
              "      <td>5013</td>\n",
              "    </tr>\n",
              "    <tr>\n",
              "      <th>694721</th>\n",
              "      <td>86003</td>\n",
              "      <td>Assoro</td>\n",
              "      <td>5016</td>\n",
              "    </tr>\n",
              "    <tr>\n",
              "      <th>801311</th>\n",
              "      <td>111059</td>\n",
              "      <td>Samassi</td>\n",
              "      <td>5018</td>\n",
              "    </tr>\n",
              "    <tr>\n",
              "      <th>314363</th>\n",
              "      <td>24062</td>\n",
              "      <td>Montecchio Precalcino</td>\n",
              "      <td>5020</td>\n",
              "    </tr>\n",
              "  </tbody>\n",
              "</table>\n",
              "</div>"
            ],
            "text/plain": [
              "        PRO_COM_T                 COMUNE  POPOLAZIONE\n",
              "538865      65006                 Amalfi         5004\n",
              "198287      16111              Gazzaniga         5006\n",
              "305999      23070  San Giovanni Ilarione         5008\n",
              "632297      77028              Tricarico         5013\n",
              "694721      86003                 Assoro         5016\n",
              "801311     111059                Samassi         5018\n",
              "314363      24062  Montecchio Precalcino         5020"
            ]
          },
          "metadata": {
            "tags": []
          },
          "execution_count": 23
        }
      ]
    },
    {
      "cell_type": "markdown",
      "metadata": {
        "id": "7hlmHhuP72m0"
      },
      "source": [
        "## trovare l'area a 30km di raggio dal confine dei piccoli comuni\n",
        "\n",
        "operazioni da svolgere:\n",
        "- aggiungere ai dati dei confini comunali l'attributo della popolazione per ciascun comune\n",
        "- l'area a 30cappa si calcola usando la funzione [buffer](https://geopandas.org/geometric_manipulations.html#GeoSeries.buffer)\n",
        "- a questa va sottratta: \n",
        "  - l'area dei confini regionali (o della provincia autonoma)\n",
        "  - l'area del comune capoluogo si provincia\n",
        "\n",
        "come output generiamo un file geojson per ogni comune e associamo anche la lista dei comuni a 30km di distanza nel campo *comunia30cappa*"
      ]
    },
    {
      "cell_type": "markdown",
      "metadata": {
        "id": "vJmHobCL8VYK"
      },
      "source": [
        "estendere alle geometrie il valore della popolazione"
      ]
    },
    {
      "cell_type": "code",
      "metadata": {
        "id": "uXlK2wrB9pD8"
      },
      "source": [
        "comuni_popolazione_tojoin = comuni_popolazione[['PRO_COM_T','POPOLAZIONE']]"
      ],
      "execution_count": 24,
      "outputs": []
    },
    {
      "cell_type": "markdown",
      "metadata": {
        "id": "d5W2QM0KlZNH"
      },
      "source": [
        "per fare la join è necessario che entrambi i campi siano dello stesso tipo ( = intero)"
      ]
    },
    {
      "cell_type": "code",
      "metadata": {
        "id": "p8_I_UQ08K3Z"
      },
      "source": [
        "limiti_comuni[\"PRO_COM_T\"] = pd.to_numeric(limiti_comuni[\"PRO_COM_T\"] , downcast='integer')"
      ],
      "execution_count": 25,
      "outputs": []
    },
    {
      "cell_type": "code",
      "metadata": {
        "id": "xw5NCh7z9FBk"
      },
      "source": [
        "geo_comuni_popolazione = limiti_comuni.merge(comuni_popolazione_tojoin,on='PRO_COM_T')"
      ],
      "execution_count": 26,
      "outputs": []
    },
    {
      "cell_type": "markdown",
      "metadata": {
        "id": "U6FtjlMslgKZ"
      },
      "source": [
        "**inizio del calcolo**\n",
        "\n",
        "a causa del fatto che bisogna prendere in considerazione il confine regionale andiamo a fare il calcolo dei comuni per ogni regione (o provincia autonoma)"
      ]
    },
    {
      "cell_type": "code",
      "metadata": {
        "id": "joI_5DXRp7Pt"
      },
      "source": [
        "def area30Cappa(comune,regione,gdf_confine):\n",
        "  # creazione dell'area a 30cappa dal confine\n",
        "  comune['geometry'] = comune.geometry.buffer(30000)\n",
        "  # taglio sul confine regionale\n",
        "  comune = gpd.overlay(comune,gdf_confine, how='intersection')\n",
        "  # spatial join al fine di avere i nomi dei comuni che intersecano l'area\n",
        "  # nota: l'intersezione aggiunge i suffissi _right\n",
        "  comuni_raggiungibili = gpd.sjoin(comune,regione)[['COMUNE_right','PRO_COM_T_right','CC_UTS']]\n",
        "  # pulizia del suffisso\n",
        "  for col in comuni_raggiungibili.columns:\n",
        "    comuni_raggiungibili.rename(columns={col:col.replace(\"_right\",\"\")},inplace=True)\n",
        "  # esclusione dell'aree dei comuni capoluogo\n",
        "  capoluoghi = []\n",
        "  for cod_capoluogo in comuni_raggiungibili[comuni_raggiungibili.CC_UTS==1].PRO_COM_T.unique():\n",
        "    capoluogo = regione[regione.PRO_COM_T == cod_capoluogo].reset_index()\n",
        "    capoluoghi.append(capoluogo.COMUNE.values[0])\n",
        "    # creazione della nuova geometria\n",
        "    comune = gpd.overlay(comune,capoluogo,how='difference')\n",
        "  comuni_30cappa = \"\"\n",
        "  lista_comuni = list(comuni_raggiungibili.COMUNE.unique())\n",
        "  for ncapoluogo in capoluoghi:\n",
        "    lista_comuni.remove(ncapoluogo)\n",
        "  for nome in lista_comuni:\n",
        "      comuni_30cappa += nome + \" ,\"\n",
        "  comuni_30cappa = comuni_30cappa.lstrip(\" ,\")\n",
        "  # aggiunta dell'elenco dei comuni raggiungibili\n",
        "  comune['30CAPPA'] = comuni_30cappa\n",
        "  # selezione dei campi utili allo scopo\n",
        "  comune = comune[['COMUNE','PRO_COM_T','POPOLAZIONE','30CAPPA','geometry']]\n",
        "  return(comune)"
      ],
      "execution_count": 42,
      "outputs": []
    },
    {
      "cell_type": "code",
      "metadata": {
        "colab": {
          "base_uri": "https://localhost:8080/"
        },
        "id": "BKpkYFQ52bS6",
        "outputId": "a520566a-c7c6-4b65-b802-4c49b061a706"
      },
      "source": [
        "comuni_raggiungibili.columns"
      ],
      "execution_count": 41,
      "outputs": [
        {
          "output_type": "execute_result",
          "data": {
            "text/plain": [
              "Index(['COMUNE_left', 'PRO_COM_T_left', 'POPOLAZIONE_left', 'geometry',\n",
              "       'index_right', 'COD_RIP', 'COD_REG', 'COD_PROV', 'COD_CM', 'COD_UTS',\n",
              "       'PRO_COM', 'PRO_COM_T_right', 'COMUNE_right', 'COMUNE_A', 'CC_UTS',\n",
              "       'SHAPE_LENG', 'SHAPE_AREA', 'SHAPE_LEN', 'POPOLAZIONE_right'],\n",
              "      dtype='object')"
            ]
          },
          "metadata": {
            "tags": []
          },
          "execution_count": 41
        }
      ]
    },
    {
      "cell_type": "code",
      "metadata": {
        "id": "tRn6iRQkaI0k"
      },
      "source": [
        "#variabile per raccogliere tutti i comuni\n",
        "tutti_i_comuni = []\n",
        "for cod_reg in geo_comuni_popolazione.COD_REG.unique():\n",
        "  # quando cod_reg vale 4 vuole dire che siamo davanti alla regione Trentino Alto Adige\n",
        "  # quindi dobbiamo guardare per le province\n",
        "  if (cod_reg != 4):\n",
        "    #estrazione dei comuni per regione\n",
        "    regione = geo_comuni_popolazione[geo_comuni_popolazione['COD_REG'] == cod_reg]\n",
        "    #calcolo della geometria del confine regionale\n",
        "    confine_regionale = regione.geometry.unary_union\n",
        "    #trasformazione in geodataframe per necessità delle funzioni di overlay\n",
        "    #di geopandas\n",
        "    gdf_confine = gpd.GeoDataFrame(\n",
        "        pd.DataFrame(data={'regione': [cod_reg]}),\n",
        "        crs='EPSG:32632',\n",
        "        geometry=gpd.GeoSeries(confine_regionale))\n",
        "    #estrazione dei piccoli comuni per questa regione\n",
        "    piccoli_comuni = regione[regione.POPOLAZIONE <= 5000]\n",
        "    #inizio del calcolo dell'area del comune a 30cappa dal confine e\n",
        "    #sottrazione dei confini regionali e dei comuni capoluogo dall'area trovata\n",
        "    #per ciascun comune\n",
        "    for codice in piccoli_comuni.PRO_COM_T.unique():\n",
        "      # estrazione singolo comune\n",
        "      comune = piccoli_comuni[piccoli_comuni['PRO_COM_T'] == codice].reset_index()\n",
        "      comune = comune[['COMUNE','PRO_COM_T','POPOLAZIONE','geometry']]\n",
        "      nome = str(comune['PRO_COM_T'].values[0])\n",
        "      comune.to_crs(epsg=4326).to_file(nome + \".geojson\",driver=\"GeoJSON\")\n",
        "      comune = area30Cappa(comune,regione,gdf_confine)\n",
        "      ## creazione del file geojson\n",
        "      comune.to_crs(epsg=4326).to_file(nome + \"_a30cappa.geojson\",driver=\"GeoJSON\")\n",
        "      tutti_i_comuni.append(comune)\n",
        "  else:\n",
        "    # questo è il caso in cui si tratta delle Province autonome\n",
        "    codici_provincia = [21,22]\n",
        "    for cod_prov in codici_provincia:\n",
        "      provincia = geo_comuni_popolazione[geo_comuni_popolazione['COD_PROV'] == cod_prov]\n",
        "      confine_provinciale = pat.geometry.unary_union\n",
        "      gdf_confine = gpd.GeoDataFrame(\n",
        "        pd.DataFrame(data={'regione': [cod_prov]}),\n",
        "        crs='EPSG:32632',\n",
        "        geometry=gpd.GeoSeries(confine_provinciale))\n",
        "      for codice in piccoli_comuni.PRO_COM_T.unique():\n",
        "        # estrazione singolo comune\n",
        "        comune = piccoli_comuni[piccoli_comuni['PRO_COM_T'] == codice].reset_index()\n",
        "        comune = comune[['COMUNE','PRO_COM_T','POPOLAZIONE','geometry']]\n",
        "        nome = str(comune['PRO_COM_T'].values[0])\n",
        "        comune.to_crs(epsg=4326).to_file(nome + \".geojson\",driver=\"GeoJSON\")\n",
        "        comune = area30Cappa(comune,provincia,gdf_confine)\n",
        "        ## creazione del file geojson\n",
        "        comune.to_crs(epsg=4326).to_file(nome + \"_a30cappa.geojson\",driver=\"GeoJSON\")\n",
        "        tutti_i_comuni.append(comune)"
      ],
      "execution_count": null,
      "outputs": []
    },
    {
      "cell_type": "code",
      "metadata": {
        "id": "JDPKKz6rNwvg"
      },
      "source": [
        "finoa5mila30cappa = gpd.GeoDataFrame( pd.concat( tutti_i_comuni, ignore_index=True) )"
      ],
      "execution_count": null,
      "outputs": []
    },
    {
      "cell_type": "code",
      "metadata": {
        "id": "EioLVN-nP7cT"
      },
      "source": [
        "finoa5mila30cappa.to_crs(epsg=4326).to_file('finoa5mila30cappa.geojson',driver=\"GeoJSON\")"
      ],
      "execution_count": null,
      "outputs": []
    },
    {
      "cell_type": "code",
      "metadata": {
        "id": "kG2JFgzmQSdD"
      },
      "source": [
        "files.download(\"finoa5milatrentino.geojson\")"
      ],
      "execution_count": null,
      "outputs": []
    }
  ]
}